{
  "nbformat": 4,
  "nbformat_minor": 0,
  "metadata": {
    "colab": {
      "provenance": [],
      "authorship_tag": "ABX9TyNVlVQahVIZuHOqU8DcwGNT",
      "include_colab_link": true
    },
    "kernelspec": {
      "name": "python3",
      "display_name": "Python 3"
    },
    "language_info": {
      "name": "python"
    }
  },
  "cells": [
    {
      "cell_type": "markdown",
      "metadata": {
        "id": "view-in-github",
        "colab_type": "text"
      },
      "source": [
        "<a href=\"https://colab.research.google.com/github/12Jeongmin/BP_10_Ch5/blob/main/BP_10_Ch5.ipynb\" target=\"_parent\"><img src=\"https://colab.research.google.com/assets/colab-badge.svg\" alt=\"Open In Colab\"/></a>"
      ]
    },
    {
      "cell_type": "code",
      "execution_count": 3,
      "metadata": {
        "colab": {
          "base_uri": "https://localhost:8080/"
        },
        "id": "5r8x-xFA3mGD",
        "outputId": "2729bdac-60d3-4a96-b65a-2fcbf43e7498"
      },
      "outputs": [
        {
          "output_type": "stream",
          "name": "stdout",
          "text": [
            "20살 이상\n"
          ]
        }
      ],
      "source": [
        "age = 20\n",
        "if age < 20:                    # 20살 보다 작다면\n",
        "  print('20살 미만')\n",
        "else:                           #그렇지 않고 20살보다 많다면\n",
        "  print('20살 이상')"
      ]
    },
    {
      "cell_type": "code",
      "source": [
        "age = 20\n",
        "if age >= 30 and age <= 50:     #만약에 30살 이상 50살 이하\n",
        "  print('30살 이상이고 50살 이하')\n",
        "else:                           # 그렇지 않다면 30살 이상 50살 이하 제외한 나머지\n",
        "  print('30살 이상이고 50살 이하를 제외한 나머지')"
      ],
      "metadata": {
        "colab": {
          "base_uri": "https://localhost:8080/"
        },
        "id": "wAkBhG7n5GmA",
        "outputId": "e1976917-734c-443f-8a5f-e62cde4edc1b"
      },
      "execution_count": 6,
      "outputs": [
        {
          "output_type": "stream",
          "name": "stdout",
          "text": [
            "30살 이상이고 50살 이하를 제외한 나머지\n"
          ]
        }
      ]
    },
    {
      "cell_type": "code",
      "source": [
        "temp = int(input(\"현재 온도를 입력하시오: \"))\n",
        "\n",
        "if temp >= 25:                  #만약에 기온이 25도 이상이면\n",
        "  print(\"반바지를 입으세요\")\n",
        "else:                           #그렇지 않다면 기온이 25도가 아니면\n",
        "   print(\"긴바지를 입으세요\") "
      ],
      "metadata": {
        "colab": {
          "base_uri": "https://localhost:8080/"
        },
        "id": "zmkSw7r-7RsI",
        "outputId": "7ca7c2c5-fc91-4f73-e962-e8fc09cc1431"
      },
      "execution_count": 10,
      "outputs": [
        {
          "output_type": "stream",
          "name": "stdout",
          "text": [
            "현재 온도를 입력하시오: 1\n",
            "긴바지를 입으세요\n"
          ]
        }
      ]
    },
    {
      "cell_type": "code",
      "source": [
        "score = int(input(\"성적을 입력하시오: \"))\n",
        "\n",
        "if score >= 90:           # 90점 이상일때\n",
        "  print(\"A학점입니다.\")\n",
        "elif score >= 80:         # 90점이하  80점 이상\n",
        "  print(\"B학점입니다.\")\n",
        "elif score >= 70:         # 90점이하 70점 이상\n",
        "  print(\"C학점입니다.\")\n",
        "elif score >= 60:         # 90점 이하 60점 이상\n",
        "  print(\"D학점입니다.\")\n",
        "else :                    # 모든 점수를 다 제외한 점수\n",
        "  print(\"F학점입니다.\")\n"
      ],
      "metadata": {
        "colab": {
          "base_uri": "https://localhost:8080/"
        },
        "id": "AS4EbCdk7wOn",
        "outputId": "c188e130-8215-4f32-c2e2-c49546d4dda8"
      },
      "execution_count": 12,
      "outputs": [
        {
          "output_type": "stream",
          "name": "stdout",
          "text": [
            "성적을 입력하시오: 10\n",
            "F학점입니다.\n"
          ]
        }
      ]
    },
    {
      "cell_type": "code",
      "source": [
        "import random    # 랜덤 함수를 가져옴\n",
        "x = random.randint(1,100)    # x값의 난수\n",
        "y = random.randint(1,100)    # y값의 난수\n",
        "\n",
        "ans = int(input(str(x)+\"-\"+str(y)+\"=\"))  # x값과 y값으 랜덤 값을 받아 문제를 만들어냄\n",
        "\n",
        "if ans == x -y :                         # 랜덤 문제의 정답이 맞으면\n",
        "  print(\"맞았습니다.\")\n",
        "else :                                   # 랜덤 문제의 정답이 틀리면\n",
        "  print(\"틀렸습니다.\")"
      ],
      "metadata": {
        "colab": {
          "base_uri": "https://localhost:8080/"
        },
        "id": "nlGMqarV_L7-",
        "outputId": "febebf5d-6d8a-4adb-fdd9-0a1c758ec39f"
      },
      "execution_count": 17,
      "outputs": [
        {
          "output_type": "stream",
          "name": "stdout",
          "text": [
            "75-59=5\n",
            "틀렸습니다.\n"
          ]
        }
      ]
    },
    {
      "cell_type": "code",
      "source": [
        "n = int(input(\"정수를 입력하시오: \"))  # 정수를 받음\n",
        "\n",
        "if n%2==0 and n%3==0:                  # 받은 정수를 2와 3으로 나누어지면\n",
        "  print(\"2와 3으로 나누어 떨어집니다.\")\n",
        "else :                                 # 받은 정수가 2와 3으로 나누어지지 않으면\n",
        "  print(\"2와 3으로 나누어 떨어지지 않았습니다.\")"
      ],
      "metadata": {
        "colab": {
          "base_uri": "https://localhost:8080/"
        },
        "id": "U3Sn1MJmBCX1",
        "outputId": "56b85007-bc18-43c0-d774-4d58b20ee912"
      },
      "execution_count": 20,
      "outputs": [
        {
          "output_type": "stream",
          "name": "stdout",
          "text": [
            "정수를 입력하시오: 6\n",
            "2와 3으로 나누어 떨어집니다.\n"
          ]
        }
      ]
    },
    {
      "cell_type": "code",
      "source": [
        "import random\n",
        "solution = random.randint(0,99)\n",
        "\n",
        "user = int(input('복권번호를 입력하세요(0에서 99사이): '))      # 복권번호 입력\n",
        "\n",
        "digit1 = solution // 10                                       \n",
        "digit2 = solution % 10              \n",
        "\n",
        "u_digit1 = user // 10\n",
        "u_digit2 = user % 10\n",
        "\n",
        "print(\"당첨번호는\", solution, \"입니다.\")\n",
        "\n",
        "if (digit1 == u_digit1 and digit2 == u_digit2):         # 번호가 모두 맞으면\n",
        "  print(\"상금은 100만원 입니다.\")\n",
        "elif (digit1 == u_digit1                                # 번호가 하나라도 맞으면\n",
        "      or digit1 == u_digit2\n",
        "      or digit2 == u_digit1\n",
        "      or digit2 == u_digit2):\n",
        "  print(\"상금은 50만원입니다.\")\n",
        "else:                                                   # 모든 번호가 맞지 않는다면\n",
        "  print(\"상금은 없습니다.\")"
      ],
      "metadata": {
        "colab": {
          "base_uri": "https://localhost:8080/"
        },
        "id": "YdBvuZVWD_rT",
        "outputId": "069ef97d-7d53-4bfa-b2c7-d75e5026fe1a"
      },
      "execution_count": 21,
      "outputs": [
        {
          "output_type": "stream",
          "name": "stdout",
          "text": [
            "복권번호를 입력하세요(0에서 99사이): 56\n",
            "당첨번호는 12 입니다.\n",
            "상금은 없습니다.\n"
          ]
        }
      ]
    }
  ]
}